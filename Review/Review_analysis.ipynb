{
 "cells": [
  {
   "cell_type": "code",
   "execution_count": 1,
   "id": "6109c406",
   "metadata": {},
   "outputs": [],
   "source": [
    "# Step 1: Import required libraries\n",
    "import pandas as pd\n",
    "from sklearn.model_selection import train_test_split\n",
    "from sklearn.feature_extraction.text import TfidfVectorizer\n",
    "from sklearn.linear_model import LogisticRegression\n",
    "from sklearn.naive_bayes import MultinomialNB\n",
    "from sklearn.ensemble import RandomForestClassifier\n",
    "from sklearn.metrics import accuracy_score, classification_report\n",
    "from sklearn.svm import LinearSVC\n",
    "from sklearn.calibration import CalibratedClassifierCV\n",
    "import joblib"
   ]
  },
  {
   "cell_type": "code",
   "execution_count": 2,
   "id": "d77c58ae",
   "metadata": {},
   "outputs": [],
   "source": [
    "# Step 2: Load the dataset\n",
    "df = pd.read_csv('data/test.csv',header=None)\n",
    "df.columns = ['polarity', 'title', 'text']  # adjust if you have 3 columns\n",
    "\n",
    "\n",
    "# Combine 'title' and 'text' for better feature representation\n",
    "df['content'] = df['title'].fillna('') + \" \" + df['text'].fillna('')\n",
    "\n",
    "# Step 2.1: Ensure polarity labels are integers\n",
    "df['polarity'] = df['polarity'].astype(int)\n",
    "\n",
    "# Step 3: Features and target\n",
    "X = df['content']\n",
    "y = df['polarity']\n",
    "\n",
    "# Step 4: Split dataset into training and testing\n",
    "X_train, X_test, y_train, y_test = train_test_split(X, y, test_size=0.2, random_state=42)\n"
   ]
  },
  {
   "cell_type": "code",
   "execution_count": 3,
   "id": "ab95f8b6",
   "metadata": {},
   "outputs": [
    {
     "name": "stdout",
     "output_type": "stream",
     "text": [
      "Logistic Regression Accuracy: 0.909\n",
      "Classification Report:\n",
      "               precision    recall  f1-score   support\n",
      "\n",
      "           1       0.91      0.91      0.91     39896\n",
      "           2       0.91      0.91      0.91     40104\n",
      "\n",
      "    accuracy                           0.91     80000\n",
      "   macro avg       0.91      0.91      0.91     80000\n",
      "weighted avg       0.91      0.91      0.91     80000\n",
      "\n"
     ]
    }
   ],
   "source": [
    "\n",
    "# Step 5: Vectorize text using TF-IDF\n",
    "vectorizer = TfidfVectorizer(max_features=5000, ngram_range=(1,2))\n",
    "X_train_vec = vectorizer.fit_transform(X_train)\n",
    "X_test_vec = vectorizer.transform(X_test)\n",
    "\n",
    "# Step 6: Train Logistic Regression model\n",
    "log_model = LogisticRegression(max_iter=1000)\n",
    "log_model .fit(X_train_vec, y_train)\n",
    "\n",
    "\n",
    "y_pred = log_model .predict(X_test_vec)\n",
    "print(\"Logistic Regression Accuracy:\", accuracy_score(y_test, y_pred))\n",
    "print(\"Classification Report:\\n\", classification_report(y_test, y_pred))\n"
   ]
  },
  {
   "cell_type": "code",
   "execution_count": 6,
   "id": "832c1871",
   "metadata": {},
   "outputs": [
    {
     "name": "stdout",
     "output_type": "stream",
     "text": [
      "\n",
      "Review: My lovely Pat has one of the GREAT voices of her generation. I have listened to this CD for YEARS and I still LOVE IT.\n",
      "Prediction: ❌ Negative Review\n",
      "\n",
      "Review: Batteries died within a year. Might as well just get alkaline disposables.\n",
      "Prediction: ✅ Positive Review\n",
      "\n",
      "Review: Great for the non-audiophile. Easy to setup and works well.\n",
      "Prediction: ❌ Negative Review\n",
      "\n",
      "Review: DVD Player crapped out after one year.\n",
      "Prediction: ✅ Positive Review\n"
     ]
    }
   ],
   "source": [
    "# ===============================\n",
    "# Step 9: Predict Sentiment\n",
    "# ===============================\n",
    "\n",
    "# Example: Predict on multiple new reviews\n",
    "new_reviews = [\n",
    "    \"My lovely Pat has one of the GREAT voices of her generation. I have listened to this CD for YEARS and I still LOVE IT.\",\n",
    "    \"Batteries died within a year. Might as well just get alkaline disposables.\",\n",
    "    \"Great for the non-audiophile. Easy to setup and works well.\",\n",
    "    \"DVD Player crapped out after one year.\"\n",
    "]\n",
    "\n",
    "for review in new_reviews:\n",
    "    # Transform using the fitted vectorizer\n",
    "    review_vec = vectorizer.transform([review])\n",
    "    \n",
    "    # Predict sentiment (1 = positive, 0 = negative)\n",
    "    pred = log_model.predict(review_vec)[0]\n",
    "    \n",
    "    # Print result\n",
    "    sentiment = \"✅ Positive Review\" if pred == 1 else \"❌ Negative Review\"\n",
    "    print(f\"\\nReview: {review}\\nPrediction: {sentiment}\")\n"
   ]
  },
  {
   "cell_type": "code",
   "execution_count": 5,
   "id": "97079933",
   "metadata": {},
   "outputs": [
    {
     "name": "stdout",
     "output_type": "stream",
     "text": [
      "✅ Sentiment: Positive Review\n"
     ]
    }
   ],
   "source": [
    "# ===============================\n",
    "# Predict Sentiment on New Review\n",
    "# ===============================\n",
    "\n",
    "# Example single review\n",
    "new_review = input(\"Enter a review to predict sentiment: \")\n",
    "\n",
    "# Convert the review to TF-IDF features\n",
    "new_review_vec = vectorizer.transform([new_review])\n",
    "\n",
    "# Predict sentiment\n",
    "prediction = log_model.predict(new_review_vec)[0]\n",
    "\n",
    "# Show result\n",
    "if prediction == 1:\n",
    "    print(\"✅ Sentiment: Positive Review\")\n",
    "else:\n",
    "    print(\"❌ Sentiment: Negative Review\")\n"
   ]
  },
  {
   "cell_type": "code",
   "execution_count": 12,
   "id": "8638bf6e",
   "metadata": {},
   "outputs": [
    {
     "name": "stdout",
     "output_type": "stream",
     "text": [
      "Naive Bayes Accuracy: 0.8696\n",
      "              precision    recall  f1-score   support\n",
      "\n",
      "           1       0.87      0.87      0.87     39896\n",
      "           2       0.87      0.87      0.87     40104\n",
      "\n",
      "    accuracy                           0.87     80000\n",
      "   macro avg       0.87      0.87      0.87     80000\n",
      "weighted avg       0.87      0.87      0.87     80000\n",
      "\n"
     ]
    }
   ],
   "source": [
    "# --------- Train Naive Bayes ---------\n",
    "nb_model = MultinomialNB()\n",
    "nb_model.fit(X_train_vec, y_train)\n",
    "\n",
    "y_pred_nb = nb_model.predict(X_test_vec)\n",
    "print(\"Naive Bayes Accuracy:\", accuracy_score(y_test, y_pred_nb))\n",
    "print(classification_report(y_test, y_pred_nb))\n",
    "\n",
    "\n"
   ]
  },
  {
   "cell_type": "code",
   "execution_count": 13,
   "id": "e2131e22",
   "metadata": {},
   "outputs": [
    {
     "name": "stdout",
     "output_type": "stream",
     "text": [
      "SVM Accuracy: 0.909525\n",
      "              precision    recall  f1-score   support\n",
      "\n",
      "           1       0.91      0.91      0.91     39896\n",
      "           2       0.91      0.91      0.91     40104\n",
      "\n",
      "    accuracy                           0.91     80000\n",
      "   macro avg       0.91      0.91      0.91     80000\n",
      "weighted avg       0.91      0.91      0.91     80000\n",
      "\n"
     ]
    }
   ],
   "source": [
    "base_svm = LinearSVC(max_iter=10000)                # Fast linear SVM\n",
    "svm_model = CalibratedClassifierCV(base_svm)        # Adds probability support\n",
    "\n",
    "# Fit the model\n",
    "svm_model.fit(X_train_vec, y_train)\n",
    "\n",
    "# Predict on test data\n",
    "y_pred_svm = svm_model.predict(X_test_vec)\n",
    "\n",
    "# Evaluate accuracy\n",
    "print(\"SVM Accuracy:\", accuracy_score(y_test, y_pred_svm))\n",
    "\n",
    "# Optional: classification report\n",
    "print(classification_report(y_test, y_pred_svm))\n"
   ]
  },
  {
   "cell_type": "code",
   "execution_count": 14,
   "id": "37c3bf15",
   "metadata": {},
   "outputs": [
    {
     "name": "stdout",
     "output_type": "stream",
     "text": [
      "Random Forest Accuracy: 0.838075\n",
      "              precision    recall  f1-score   support\n",
      "\n",
      "           1       0.85      0.82      0.83     39896\n",
      "           2       0.83      0.86      0.84     40104\n",
      "\n",
      "    accuracy                           0.84     80000\n",
      "   macro avg       0.84      0.84      0.84     80000\n",
      "weighted avg       0.84      0.84      0.84     80000\n",
      "\n"
     ]
    }
   ],
   "source": [
    "rf_model = RandomForestClassifier(\n",
    "    n_estimators=100,       # Number of trees\n",
    "    max_depth=20,           # Limit depth to reduce training time\n",
    "    min_samples_split=10,   # Minimum samples required to split a node\n",
    "    n_jobs=-1,              # Use all CPU cores for parallel training\n",
    "    random_state=42\n",
    ")\n",
    "\n",
    "# Fit the model\n",
    "rf_model.fit(X_train_vec, y_train)\n",
    "\n",
    "# Predict on test data\n",
    "y_pred_rf = rf_model.predict(X_test_vec)\n",
    "\n",
    "# Evaluate accuracy\n",
    "print(\"Random Forest Accuracy:\", accuracy_score(y_test, y_pred_rf))\n",
    "\n",
    "# Optional: classification report\n",
    "print(classification_report(y_test, y_pred_rf))"
   ]
  },
  {
   "cell_type": "code",
   "execution_count": 15,
   "id": "f2a3a900",
   "metadata": {},
   "outputs": [
    {
     "name": "stdout",
     "output_type": "stream",
     "text": [
      "Models and vectorizer saved successfully!\n"
     ]
    }
   ],
   "source": [
    "# Step 8: Save model and vectorizer for Flask\n",
    "joblib.dump(log_model, 'logistic_model.pkl')\n",
    "joblib.dump(vectorizer, 'tfidf_vectorizer.pkl')\n",
    "joblib.dump(nb_model, 'naive_bayes_model.pkl')\n",
    "joblib.dump(svm_model, 'svm_model.pkl')\n",
    "joblib.dump(rf_model, 'rf_model.pkl')\n",
    "print(\"Models and vectorizer saved successfully!\")"
   ]
  }
 ],
 "metadata": {
  "kernelspec": {
   "display_name": "myenv",
   "language": "python",
   "name": "python3"
  },
  "language_info": {
   "codemirror_mode": {
    "name": "ipython",
    "version": 3
   },
   "file_extension": ".py",
   "mimetype": "text/x-python",
   "name": "python",
   "nbconvert_exporter": "python",
   "pygments_lexer": "ipython3",
   "version": "3.12.0"
  }
 },
 "nbformat": 4,
 "nbformat_minor": 5
}
